{
 "cells": [
  {
   "cell_type": "code",
   "execution_count": null,
   "id": "727b9f46",
   "metadata": {},
   "outputs": [],
   "source": [
    "import  cv2\n",
    "import numpy as np "
   ]
  },
  {
   "cell_type": "code",
   "execution_count": null,
   "id": "2114dbc5",
   "metadata": {},
   "outputs": [],
   "source": [
    "img=cv2.imread(\"D:\\\\wallpapers\\\\203536.png\")\n",
    "rows,cols=img.shape[:2]\n",
    "kernel_25=np.ones((25,25),np.float32)/625.0\n",
    "output_kernel=cv2.filter2D(img,-1,kernel_25)\n",
    "\n"
   ]
  },
  {
   "cell_type": "code",
   "execution_count": null,
   "id": "d893fabc",
   "metadata": {},
   "outputs": [],
   "source": [
    "# bocfilter and blur funciton blurring \n",
    "\n",
    "# box filter used to increase the intensity of the image , used with dark images\n",
    "# to increase their intensity and make them more visible \n",
    "\n",
    "output_blur=cv2.blur(img,(25,25))\n",
    "\n",
    "output_box=cv2.boxFilter(img,-1,(5,5),normalize=False)\n",
    "\n",
    "\n"
   ]
  },
  {
   "cell_type": "code",
   "execution_count": null,
   "id": "388194c2",
   "metadata": {},
   "outputs": [],
   "source": [
    "cv2.imshow(\"kernel blur\", output_kernel)\n",
    "cv2.imshow(\"blur() output \",output_blur)\n",
    "cv2.imshow(\"box_filter\",output_box)\n",
    "\n",
    "cv2.imshow(\"original\",img)\n",
    "cv2.waitKey(0)"
   ]
  },
  {
   "cell_type": "code",
   "execution_count": null,
   "id": "38015842",
   "metadata": {},
   "outputs": [],
   "source": [
    "# gaussian blurring \n",
    "\n",
    "output_gaus=cv2.GaussianBlur(img,())\n",
    "\n",
    "#median blur\n",
    "output_med=cv2.medianB;ur(img,5)\n",
    "\n",
    "#bilateral blur\n",
    "\n",
    "output_bil= cv2.bilateralFilter(img,5,6,6)\n",
    "\n",
    " \n",
    "cv2.imshow(\"gaussian\",output_gaus)\n",
    "cv2.imshow(\"median blur\",output_med)\n",
    "cv2.imshow(\"bilatetral\",output_bil)\n",
    "\n",
    "cv2.waitKey(0)"
   ]
  },
  {
   "cell_type": "code",
   "execution_count": null,
   "id": "f67dabdb",
   "metadata": {},
   "outputs": [],
   "source": [
    "#sharpening image \n",
    "gaussian_blur=cv2.GaussianBlur(img,(7,7),2)\n",
    "\n",
    "sharpen1=cv2.addWeighted(img,1.5,gaussain_blur,-0.5,0)\n",
    "\n",
    "cv.imshow(\"sharpened1\",sharpen1)\n",
    "cv2.waitKey(0)\n"
   ]
  },
  {
   "cell_type": "code",
   "execution_count": null,
   "id": "057872ef",
   "metadata": {},
   "outputs": [],
   "source": []
  }
 ],
 "metadata": {
  "kernelspec": {
   "display_name": "Python 3 (ipykernel)",
   "language": "python",
   "name": "python3"
  },
  "language_info": {
   "codemirror_mode": {
    "name": "ipython",
    "version": 3
   },
   "file_extension": ".py",
   "mimetype": "text/x-python",
   "name": "python",
   "nbconvert_exporter": "python",
   "pygments_lexer": "ipython3",
   "version": "3.10.9"
  }
 },
 "nbformat": 4,
 "nbformat_minor": 5
}
